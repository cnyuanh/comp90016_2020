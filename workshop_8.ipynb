{
 "cells": [
  {
   "cell_type": "markdown",
   "metadata": {},
   "source": [
    "# Workshop 8 (Week beginning May 18)\n",
    "# Introduction to Metagenome Analysis\n",
    "\n",
    "In this workshop we will attempt to produce a metagenome-assembled-genome (MAG) from a microbial community associated with the human body, i.e part of the human microbiome.\n",
    "\n",
    "## Background\n",
    "\n",
    "The Human Microbiome Project was a major driver for methods development for the analysis of microbial communities (https://www.ncbi.nlm.nih.gov/pmc/articles/PMC3564958/). There are many sites around the body that have microbial communities - an overview of the samples that have been analysed as part of the initial Human Microbiome Project is summarised in the graph below."
   ]
  },
  {
   "cell_type": "markdown",
   "metadata": {},
   "source": [
    "<img src=\"data/workshop_8/hmgp_sample_sites.png\">"
   ]
  },
  {
   "cell_type": "markdown",
   "metadata": {},
   "source": [
    "## Kraken Reports\n",
    "\n",
    "Some samples, such as faeces, have complex microbiomes (bacteria from many different species), which can make it more difficult to produce a MAG. \n",
    "\n",
    "The 33 samples used in today’s activity are from a less complex human microbial community. These samples were prepared from a series of vaginal swabs.\n",
    "\n",
    "`kraken2` was used to produce a profile (--report) of the microbial community from the Illumina readset for each sample (Paired-end, 100 base reads). The reports (.tab files) contains tabulated information about the number of reads classified at each taxonomic level. Columns: % reads, total number of reads assigned to the clade rooted by the taxon, total number of reads assigned to the taxon directly, encoded taxonomic level, TaxID (NCBI), taxonomic classification.\n",
    "\n",
    "Open one of the reports and examine some of the classifications.\n",
    "\n",
    "Produce an overview of the number of reads in each sample (classified (root) and unclassified) with the command below.\n",
    "\n",
    "`grep -P '\\tU\\t' -A 1 -H *.tab`\n",
    "\n",
    "The version of the minikraken database used contains the human genome sequence. Human sequences represent an important potential ‘contaminant’ in the analysis of human microbiomes. Produce an overview of the human sequences in each sample.\n",
    "\n",
    "`grep -P 'Homo sapiens' -H *.tab`\n",
    "\n",
    "How many samples have less than 10% human reads?\n",
    "\n",
    "The organism we would like to produce a MAG for is *Gardnerella vaginalis*. For a reasonable draft genome sequence we will need at least 15x depth. The estimated genome size for *Gardnerella vaginalis* can be found here: https://www.ncbi.nlm.nih.gov/genome/genomes/1967\n",
    "\n",
    "for i in *.tab; do grep -H -P '\\tS\\t' $i | sort -k 2 -n | grep Gardnerella;\n",
    "done\n",
    "\n",
    "Which samples have enough *Gardnerella vaginalis* reads to produce an acceptable draft genome sequence? "
   ]
  },
  {
   "cell_type": "markdown",
   "metadata": {},
   "source": [
    "## Create a MAG\n",
    "\n",
    "Reads for sample 1119_21M have been assembled using `Megahit`. The metagenome assembly (1119_21M.fa) contains 4716 contigs (min. 500 bases) and a total of 22,543,734 bases. Remember that this assembly contains sequences from multiple species."
   ]
  },
  {
   "cell_type": "markdown",
   "metadata": {},
   "source": [
    "Identify the contigs with similarity to the genome sequence of *Gardnerella vaginalis* strain 409-05 (NC_013721.1; 409-05.fa) using BLAST.\n",
    "\n",
    "Extract the relevant contigs from the metagenome assembly using `samtools` based on your BLAST results (Hint: use samtools faidx -r with a regions file, where each region is specified on a new line).\n",
    "\n",
    "What metrics could you use to assess the *Gardnerella vaginalis* MAG you produced from 1119_21M?"
   ]
  },
  {
   "cell_type": "markdown",
   "metadata": {},
   "source": [
    "An alternate approach: Given that *Gardnerella vaginalis* is the dominant organism in the sample, produce a list of contigs with high read coverage (say multi > 50) and use this list to extract the relevant contigs.\n",
    "\n",
    "The ‘contig coverage’ (multi=) is contained in the header of each of the contigs in 1119_21M.fa.\n",
    "\n",
    "`grep '>' 1119_21M.fa | less`"
   ]
  },
  {
   "cell_type": "markdown",
   "metadata": {},
   "source": [
    "Thank you to Dr. Dieter Bulach and Dharmesh Bhuva for developing the tutorial material. Updated by Steven Morgan."
   ]
  }
 ],
 "metadata": {
  "kernelspec": {
   "display_name": "Python 3",
   "language": "python",
   "name": "python3"
  },
  "language_info": {
   "codemirror_mode": {
    "name": "ipython",
    "version": 3
   },
   "file_extension": ".py",
   "mimetype": "text/x-python",
   "name": "python",
   "nbconvert_exporter": "python",
   "pygments_lexer": "ipython3",
   "version": "3.7.3"
  }
 },
 "nbformat": 4,
 "nbformat_minor": 2
}
