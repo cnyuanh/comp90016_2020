{
 "cells": [
  {
   "cell_type": "markdown",
   "metadata": {},
   "source": [
    "# Workshop 7 (Week beginning May 11)\n",
    "# Phylogenies\n",
    "\n",
    "In this workshop we will be working with a multiple sequence alignment of bacterial genomes. We will then create and visualise a phylogenetic tree from the alignment.\n",
    "\n",
    "## Background\n",
    "\n",
    "It's 2010 and there has been a massive earthquake in Haiti. This has led to a dramatic increase in the number of cases of cholera, the disease caused by the bacterium *Vibrio cholera*. This is the first time in more than 100 years that there has been a cholera outbreak in Haiti. Urgent efforts are underway to identify the source of the outbreak. \n",
    "Fortunately, in addition to field epidemiologists carrying out shoe-leather investigations in the affected areas, we have WGS of some of the isolates from the outbreak. \n",
    " \n",
    "You are the lead bioinformatician in charge of analysing this data. You need to process and interpret the data, and provide feedback to the public health doctors in charge of outbreak response."
   ]
  },
  {
   "cell_type": "markdown",
   "metadata": {},
   "source": [
    "**Why might there be an increase in cholera cases following an event like an earthquake?**"
   ]
  },
  {
   "cell_type": "markdown",
   "metadata": {},
   "source": [
    "~~~ Your answer here"
   ]
  },
  {
   "cell_type": "markdown",
   "metadata": {},
   "source": [
    "**What is unusual about the genome of V. cholera?**"
   ]
  },
  {
   "cell_type": "markdown",
   "metadata": {},
   "source": [
    "~~~ Your answer here"
   ]
  },
  {
   "cell_type": "markdown",
   "metadata": {},
   "source": [
    "## Alignment file\n",
    "\n",
    "data/v_cholera.aln contains an alignment of all the high quality variable sites found in the core genome from 19 *V. cholera* from Haiti and from 21 other *V. cholera* genomes from around the world.\n",
    "\n",
    "`snippy-core` was used to generate the alignment\n",
    "\n",
    "**Describe the content of the file.**\n",
    "\n",
    "## Task 1 - Compute the SNP distance matrix\n",
    "\n",
    "Calculate the pairwise SNP distance between all the isolates and plot the distribution as a histogram, using the disty command in the terminal.\n",
    "\n",
    "`disty data/v_cholera.aln > pairwise_distances.tsv`\n",
    "\n",
    "Disty is already installed on the COMP90016 server. You can install it on your personal device with the following command: `conda install -c bioconda disty`"
   ]
  },
  {
   "cell_type": "markdown",
   "metadata": {},
   "source": [
    "## Task 2 - Summary of distances\n",
    "\n",
    "Import the pairwise distance matrix created from the previous step into a pandas data frame. Data is stored in a tab-separated format. Note that the resulting matrix is a symmetric matrix, which is a property of distances: $\\mathrm{dist}[i,j] = \\mathrm{dist}[j,i]$."
   ]
  },
  {
   "cell_type": "code",
   "execution_count": null,
   "metadata": {},
   "outputs": [],
   "source": [
    "# Import the relevant libraries and the pairwise distances file.\n",
    "import pandas as pd\n",
    "import numpy as np\n",
    "\n",
    "# Display a section of the distance matrix.\n",
    "pwd = pd.read_csv('pairwise_distances.tsv', delimiter='\\t', encoding='utf-8', index_col=0)\n",
    "pwd.iloc[:5,:5]"
   ]
  },
  {
   "cell_type": "code",
   "execution_count": null,
   "metadata": {},
   "outputs": [],
   "source": [
    "# Get the dimensions of the data frame\n",
    "pwd_dim = pwd.shape\n",
    "pwd_dim"
   ]
  },
  {
   "cell_type": "markdown",
   "metadata": {},
   "source": [
    "Since the distance matrix is symmetric, all summary statistics must be generated from one set of the distances (one triangle of the matrix)."
   ]
  },
  {
   "cell_type": "code",
   "execution_count": null,
   "metadata": {},
   "outputs": [],
   "source": [
    "# Get the indices of the upper triangle, excluding the diagonals (k=1)\n",
    "triu_ind = np.triu_indices(pwd_dim[0], k=1)\n",
    "\n",
    "# Extract the distances at these indices.\n",
    "distances = pwd.values[triu_ind]\n",
    "len(distances)"
   ]
  },
  {
   "cell_type": "markdown",
   "metadata": {},
   "source": [
    "Now we plot a histogram of the pairwise distances.\n",
    "\n",
    "Note that an OrderedDict differs from a regular dictionary in that that the order of items is always preserved. In a normal dictionary, the key-value pairs are present, but their order can vary."
   ]
  },
  {
   "cell_type": "code",
   "execution_count": null,
   "metadata": {},
   "outputs": [],
   "source": [
    "# Import the relevant libraries.\n",
    "%matplotlib inline\n",
    "import matplotlib.pyplot as plt\n",
    "import collections\n",
    "\n",
    "# Create a dictionary representation of a histogram\n",
    "hist_data = collections.Counter(list(distances))\n",
    "# Sort dictionary by keys and store into an ordered dictionary\n",
    "hist_data = collections.OrderedDict(sorted(hist_data.items()))\n",
    "\n",
    "# Plot the histogram\n",
    "plt.plot(hist_data.keys(), hist_data.values())\n",
    "plt.xlabel('Distances')\n",
    "plt.ylabel('Frequency')\n",
    "plt.show()"
   ]
  },
  {
   "cell_type": "markdown",
   "metadata": {},
   "source": [
    "**What is the median pairwise SNP distance? How well do you think this describes the dataset?**"
   ]
  },
  {
   "cell_type": "markdown",
   "metadata": {},
   "source": [
    "~~~ Your answer here"
   ]
  },
  {
   "cell_type": "markdown",
   "metadata": {},
   "source": [
    "**Is it a useful statistic? Are there other trends in the data present in the histogram?**"
   ]
  },
  {
   "cell_type": "markdown",
   "metadata": {},
   "source": [
    "~~~ Your answer here"
   ]
  },
  {
   "cell_type": "markdown",
   "metadata": {},
   "source": [
    "**What does the histogram tell you about the relatedness of the samples in your dataset?**"
   ]
  },
  {
   "cell_type": "markdown",
   "metadata": {},
   "source": [
    "~~~ Your answer here"
   ]
  },
  {
   "cell_type": "markdown",
   "metadata": {},
   "source": [
    "## Task 3 - Create a phylogenetic tree\n",
    "\n",
    "We will now use the IQ-TREE tool to generate a Maximum Likelihood tree. By default, IQ-TREE will also test a wide range of nucleotide substitution models to see which best fits the data. For larger alignments this can be a very time consuming step, so if speed is important, it might make sense to omit this step and use a general model (e.g. GTR). You can find more information about how to run a specific model by looking at `iqtree -h`.\n",
    "\n",
    "Use the following command in a terminal window.\n",
    "\n",
    "`iqtree -s data/v_cholera -nt 1`\n",
    "\n",
    "IQ-TREE is already installed on the COMP90016 server. You can install it on your personal device with the following command: `conda install -c bioconda iqtree`"
   ]
  },
  {
   "cell_type": "markdown",
   "metadata": {},
   "source": [
    "**Examine the IQTREE output. Which model was selected as the best?**"
   ]
  },
  {
   "cell_type": "markdown",
   "metadata": {},
   "source": [
    "~~~ Your answer here"
   ]
  },
  {
   "cell_type": "markdown",
   "metadata": {},
   "source": [
    "**What is the full name of the model?  Hint: what do the initials stand for?**"
   ]
  },
  {
   "cell_type": "markdown",
   "metadata": {},
   "source": [
    "~~~ Your answer here"
   ]
  },
  {
   "cell_type": "markdown",
   "metadata": {},
   "source": [
    "## Task 4 - Visualising the tree\n",
    "\n",
    "Download the tree (the file with the extension .treefile) to your local computer. You should also download the geog_loc_microreact.csv file. Change the file extension of the tree file to .nwk.\n",
    "\n",
    "Navigate to https://microreact.org/upload and upload the v_cholera.aln.nwk file and the geog_loc_microreact.csv file. Spend some time becoming familiar with the various options and buttons. Microreact is an ideal way to investigate relationships between phylogeny and geography (phylogeographical relationships).\n",
    "\n",
    "**Identify the Haiti outbreak genomes in the tree.**"
   ]
  },
  {
   "cell_type": "markdown",
   "metadata": {},
   "source": [
    "~~~ Your answer here"
   ]
  },
  {
   "cell_type": "markdown",
   "metadata": {},
   "source": [
    "Try experimenting with the different tree visualisation settings. Use the show controls button in the top right."
   ]
  },
  {
   "cell_type": "markdown",
   "metadata": {},
   "source": [
    "**Are the isolates from Haiti a monophyletic group? Hint: a monophyletic group is a group that consists of all the descendents of a common ancestor.**\n",
    "\n",
    "~~~ Your answer here\n",
    "\n",
    "**Is there phylogeographical signal in the *V. cholerae* genomes from within Haiti? In other words, are the isolates from different regions of Haiti genetically distinct from each other? If you were given another Haitian isolate with no geographical information, how confident would you be in your prediction of its geographic origin?**\n",
    "\n",
    "~~~ Your answer here\n",
    " \n",
    "**Where does the closest neighbour of the Haiti genomes originate from?**\n",
    "\n",
    "~~~ Your answer here\n",
    " \n",
    "**What would you write is you were asked to summarise your results for the public health officials.**\n",
    "\n",
    "~~~ Your answer here"
   ]
  },
  {
   "cell_type": "markdown",
   "metadata": {},
   "source": [
    "Thank you to Dr. Dieter Bulach and Dharmesh Bhuva for developing the tutorial material. Updated by Steven Morgan."
   ]
  }
 ],
 "metadata": {
  "kernelspec": {
   "display_name": "Python 3",
   "language": "python",
   "name": "python3"
  },
  "language_info": {
   "codemirror_mode": {
    "name": "ipython",
    "version": 3
   },
   "file_extension": ".py",
   "mimetype": "text/x-python",
   "name": "python",
   "nbconvert_exporter": "python",
   "pygments_lexer": "ipython3",
   "version": "3.7.3"
  }
 },
 "nbformat": 4,
 "nbformat_minor": 2
}
