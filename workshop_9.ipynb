{
 "cells": [
  {
   "cell_type": "markdown",
   "metadata": {},
   "source": [
    "# Workshop 9 (Week beginning May 25)\n",
    "# Annotation of a bacterial genome sequence and sub-species classification\n",
    "\n",
    "In this workshop we will annotate a bacterial assembly with gene information and identify its MLST.\n",
    "\n",
    "## Background\n",
    "A *Staphylococcus aureus* isolate has been sequenced using long and short read sequencing technologies with the inention to produce a closed genome sequence (a single contig for each of the replicons) for the isolate.\n",
    "\n",
    "## Workflow\n",
    "The workflow used to assemble the closed bacterial genome sequence is outlined below in the Figure.\n",
    "\n",
    "![workflow](data/workshop9_workflow.PNG)\n",
    "\n",
    "**Figure:** An overview of the workflow performed to produce the closed genome sequence. The steps used to identify small plasmids is indicated by the red arrow. The workflow uses Canu (a *de novo* assembler used for long reads) to assemble the PacBio reads, Circlator (removes overlap artifacts and orientates the chromosome sequence so that the first gene is *dnaA*) to trim contigs and Pilon to correct the contigs (Illumina reads are mapped onto contigs to locate errors).\n",
    "\n",
    "The genome sequence of our isolate comprises two replicons, the chromosome and a large plasmid about 20,000 bases in size (both replicons were present in the Canu assembly, no small plasmids were detected in the unmapped reads).\n",
    "\n",
    "## Task 1\n",
    "Produce an annotated genome sequence for the *Staphylococcus aureus* isolate and check that the first gene in the chromosome is *dnaA* (has Circlator orientated the chromosome sequence correctly).\n",
    "\n",
    "We will be using [PROKKA](https://github.com/tseemann/prokka) for this task. Familiarise yourself with the options required to run the tool with the help menu from the command line.\n",
    "\n",
    "> `prokka --help`\n",
    "\n",
    "Use PROKKA to annotate the genome sequence. Your input sequence is P76.fa (in the data directory).\n",
    "Information for options:\n",
    "\n",
    "* Genus: Staphylococcus\n",
    "* Species: aureus\n",
    "* Strain: P76\n",
    "* Sequencing Centre: COMP90016\n",
    "* Output folder: SA_P76\n",
    "\n",
    "PROKKA uses BLAST to search various protein databases. \n",
    "\n",
    "What is the default E-value setting used by PROKKA?\n",
    "\n",
    "Why did the developer name the tool \"PROKKA\"?\n",
    "\n",
    "The .gff file (in the output folder) can be used to find the location of the *dnaA* gene on the chromosome.\n",
    "\n",
    "Which of the output files contain the DNA sequence for each annotated gene? Which file contains the protein sequences?\n",
    "\n",
    "Use [NCBI BLAST](https://blast.ncbi.nlm.nih.gov/Blast.cgi) to see if there have been similar plasmids sequenced to the plasmid found in P76. Can you suggest a name for the P76 plasmid based on the BLAST search results?"
   ]
  },
  {
   "cell_type": "markdown",
   "metadata": {},
   "source": [
    "## Background\n",
    "Any species contains considerable genetic variation. For many pathogenic bacterial species, major genetic subgroups within the species are identified using multilocus sequence typing ([MLST](https://en.wikipedia.org/wiki/Multilocus_sequence_typing)). For *S. aureus*, MLST is based on seven genes, each of which is present in all *S. aureus* isolates. The genes are carbamate kinase (*arcC*), shikimate dehydrogenase (*aroE*), glycerol kinase (*glpF*), guanylate kinase (*gmk*), phosphate acetyltransferase (*pta*), triosephosphate isomerase (*tpi*) and acetyl coenzyme A acetyltransferase (*yqiL*). A specific part of each of these genes is used. Historically these parts were selected because they could be conveniently amplified by PCR from any *S. aureus* isolate. A centrally managed database ([PubMLST](https://pubmlst.org/saureus/)) assigns a number to each unique sequence for each of the seven genes (each unique sequence is referred to as an allele).\n",
    "\n",
    "## Task 2\n",
    "Classify our isolate using the [MLST tool](https://github.com/tseemann/mlst)\n",
    "\n",
    "Use the help menu to work out the correct command to use.\n",
    "> `mlst --help`\n",
    "\n",
    "Note: there is no need to select the scheme, the most appropriate scheme is auto detected by default.\n",
    "\n",
    "How many MLST schemes are available for detection with the MLST tool? Hint: Remember the `wc` command from the into to command line workshop.\n",
    "\n",
    "How many *S. aureus* isolates are in the [PubMLST isolate database](https://pubmlst.org/bigsdb?db=pubmlst_saureus_isolates) with the same profile as our isolate? Use the \"Search by combinations of loci (profiles)\" option."
   ]
  },
  {
   "cell_type": "markdown",
   "metadata": {},
   "source": [
    "Thank you to Dr. Dieter Bulach and Dharmesh Bhuva for developing the tutorial material. Updated by Steven Morgan."
   ]
  }
 ],
 "metadata": {
  "kernelspec": {
   "display_name": "Python 3",
   "language": "python",
   "name": "python3"
  },
  "language_info": {
   "codemirror_mode": {
    "name": "ipython",
    "version": 3
   },
   "file_extension": ".py",
   "mimetype": "text/x-python",
   "name": "python",
   "nbconvert_exporter": "python",
   "pygments_lexer": "ipython3",
   "version": "3.7.3"
  }
 },
 "nbformat": 4,
 "nbformat_minor": 2
}
