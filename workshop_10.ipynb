{
 "cells": [
  {
   "cell_type": "markdown",
   "metadata": {},
   "source": [
    "# Workshop 10 (Week beginning June 1)\n",
    "# Nullarbor case studies\n",
    "\n",
    "In this workshop we will examine two public-health genomics case studies with the tool Nullabor.\n",
    "\n",
    "[Nullarbor](https://github.com/tseemann/nullarbor) is a tool used in cases of outbreaks of diseases caused by bacteria. It runs a variety of computational steps using different tools, many of which we have used before this semester. We will be analysing two Nullabor reports that have already been generated (there is no need to install the software yourself).\n",
    "\n",
    "\n",
    "## Case Study 1\n",
    "\n",
    "### Background\n",
    "Five isolates of *Mycoplasma hominis* collected from four patients were submitted to the Microbiological Diagnostic Unit Public Health Laboratory for whole genome shotgun sequencing. The following case details were provided by the laboratory:\n",
    "\n",
    "![samples](data/workshop10_samples.png)\n",
    "\n",
    "### Questions\n",
    "\n",
    "Examine the [Nullabor report](https://bioinformatics.mdu.unimelb.edu.au/~schultzm/teaching/genomics_course_2018/Mycoplasma_hominis/) and answer the questions below.\n",
    "\n",
    ">1. Comment on the quality of the genome sequences. Consider depth of coverage, species identification, assembly and pan-genome.\n",
    "\n",
    ">2. Suggest a reason why there are no data in the MLST section?\n",
    "\n",
    ">3. What are the important relationships seen in the phylogenetic tree?\n",
    "\n",
    ">4. What information would you include in a report made for the hospital where these transplants occurred?\n",
    "\n",
    ">5. Examine the resistome section. Describe the results are their implications.\n",
    "\n",
    ">6. All 5 patients were treated with Doxycycline (a Tetracycline antibiotic), which was successful in clearing the infection despite a tet(M) gene being detected in silico in some isolates. Comment on why you think this antibiotic worked ([hint](https://drive.google.com/file/d/1orUJOBNbshaJhAixUO8LtF4jSe4Soxcp/view)).\n",
    "\n",
    "If you are interested, you can read more about this case [here](https://academic.oup.com/cid/article/65/9/1504/3925587)"
   ]
  },
  {
   "cell_type": "markdown",
   "metadata": {},
   "source": [
    "## Case Study 2\n",
    "\n",
    "### Background\n",
    "A young, pregnant woman visited her uncle on a small dairy farm in South East Gippsland for a week during the last 3 months of her pregnancy. During that time she drank fresh, unpasteurized milk. Subsequently, she became unwell with fever, vomiting and myalgia. Four weeks later, she went into premature labour and delivered a still-born child. *Listeria monocytogenes* was cultured from both mother (MAE-63) and baby (MAE-66).\n",
    "\n",
    "Environmental sampling was performed at the farm and the family home. A number of *L. monocytogenes* isolates were obtained from production milk on the farm. Isolates were also obtained from fresh cheese products and other food stored in the family fridge.\n",
    "\n",
    "Whole-genome sequencing and a core genome comparison were performed. Isolates from the mother and baby along with several environmental isolates belonged to cluster ST5. A cluster analysis was performed on all ST5 isolates collected in the previous 12 months from human infections. The data relating to the ST5 isolates are contained within the Nullabor report\n",
    "\n",
    "![samples](data/workshop10_isolates.png)\n",
    "\n",
    "### Questions\n",
    "\n",
    "Examine the [Nullabor report](https://bioinformatics.mdu.unimelb.edu.au/~schultzm/teaching/genomics_course_2018/Listeria_monocytogenes/) and answer the questions below.\n",
    "\n",
    ">1. Comment on the quality of the genome sequences. Consider depth of coverage, species identification, assembly and pan-genome.\n",
    "\n",
    ">2. Comment on the MLST types observed.\n",
    "\n",
    ">3. What are the important relationships seen in the pan-genome phylogenetic tree?\n",
    "\n",
    ">4. What recommendations would you consider for the farm where this case originated?\n"
   ]
  },
  {
   "cell_type": "markdown",
   "metadata": {},
   "source": [
    "Thank you to Dr. Dieter Bulach and Dharmesh Bhuva for developing the tutorial material. Updated by Steven Morgan."
   ]
  }
 ],
 "metadata": {
  "kernelspec": {
   "display_name": "Python 3",
   "language": "python",
   "name": "python3"
  },
  "language_info": {
   "codemirror_mode": {
    "name": "ipython",
    "version": 3
   },
   "file_extension": ".py",
   "mimetype": "text/x-python",
   "name": "python",
   "nbconvert_exporter": "python",
   "pygments_lexer": "ipython3",
   "version": "3.7.3"
  }
 },
 "nbformat": 4,
 "nbformat_minor": 2
}
